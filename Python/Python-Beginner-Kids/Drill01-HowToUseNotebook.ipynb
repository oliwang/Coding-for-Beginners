{
 "cells": [
  {
   "cell_type": "markdown",
   "metadata": {},
   "source": [
    "## 保存文件\n",
    "\n",
    "在开始之前我们先把这个文件另存为一个新文件\n",
    "\n",
    "1. 点击File，选择Make a copy\n",
    "2. 点击最上面一行\"Drill01-HowToUseNotebook-Copy1\"，把名字改为\"Drill01-HowToUseNotebook-\\<YourName\\>\"如\"Drill01-HowToUseNotebook-Olivia\"\n",
    "3. Ctrl + S 或者点击第三行图标菜单的第一个保存按钮\n",
    "\n"
   ]
  },
  {
   "cell_type": "markdown",
   "metadata": {},
   "source": [
    "# 怎么使用notebook\n",
    "\n",
    "如果能读到这句说明你已经打开这个notebook，迈出了万里长征的第一步啦～\n",
    "\n",
    "之前我们上课用IDLE新建文件然后运行代码，每次对于代码内容做了变动都要重新运行一下所有的代码。老师展示代码运行的时候也比较难展示每一行代码对于结果的影响或是改变某个参数会有什么变化。\n",
    "\n",
    "用Jupyter Notebook就可以解决这种痛点了。\n",
    "\n",
    "## Cell单元类型\n",
    "\n",
    "我们常用的有两种，Markdown和Code。\n",
    "\n",
    "Markdown是一个标记语言，用特定的标记可以渲染出标题，链接，列表，表格，图片等等。具体的写法我们之后会学习。如果你感兴趣，可以看一下这个网页[Markdown Basic Syntax](https://www.markdownguide.org/basic-syntax/)。\n",
    "\n",
    "Code Cell就是写代码的地方，运行后代码变量在之后的Cell中也可以用。\n",
    "\n",
    "不管是Markdown还是Code Cell，你写完或者修改完后选中这个Cell，然后点击Run按钮就可以了。Markdown格式会渲染出来，代码会运行，显示运行结果。"
   ]
  },
  {
   "cell_type": "markdown",
   "metadata": {},
   "source": [
    "## 按钮都是用来做什么的？\n",
    "\n",
    "1. 保存\n",
    "2. 添加Cell\n",
    "3. 剪切/删除Cell\n",
    "4. 复制Cell\n",
    "5. 粘贴Cell\n",
    "6. 向上移动Cell\n",
    "7. 向下移动Cell\n",
    "8. 运行Cell\n",
    "9. 停止运行\n",
    "10. 重启内核\n",
    "11. 重启内核，重新运行所有Cell\n",
    "12. 选择Cell类型\n",
    "\n",
    "\n",
    "## 小练习\n",
    "1. 在这个Cell下面新建一个Cell，里面定义一个变量`name`，它的值是你的名字。"
   ]
  },
  {
   "cell_type": "markdown",
   "metadata": {},
   "source": [
    "2. 下面的几个Cell数字是乱序的，请复制出一个1，新建Cell补全缺失的值，然后将它们排列成斐波那契数列前8项。\n",
    "\n",
    "1， 1， 2， 3， 5， 8， 13， 21"
   ]
  },
  {
   "cell_type": "markdown",
   "metadata": {},
   "source": [
    "8"
   ]
  },
  {
   "cell_type": "markdown",
   "metadata": {},
   "source": [
    "2"
   ]
  },
  {
   "cell_type": "markdown",
   "metadata": {},
   "source": [
    "1"
   ]
  },
  {
   "cell_type": "markdown",
   "metadata": {},
   "source": [
    "13"
   ]
  },
  {
   "cell_type": "markdown",
   "metadata": {},
   "source": [
    "3. 下面的代码运行后会显示计算结果，运行一下试试看吧\n",
    "\n",
    "之前我们的输出用的都是`print()`函数，在Jupyter Notebook中一个Cell的最后一行如果是一个变量名，那么会输出这个变量值。"
   ]
  },
  {
   "cell_type": "code",
   "execution_count": null,
   "metadata": {},
   "outputs": [],
   "source": [
    "a = 5.6\n",
    "b = 7.8\n",
    "c = a * b\n",
    "c"
   ]
  },
  {
   "cell_type": "markdown",
   "metadata": {},
   "source": [
    "运行过的Cell中的变量在之后的Cell中也可以继续使用"
   ]
  },
  {
   "cell_type": "code",
   "execution_count": null,
   "metadata": {},
   "outputs": [],
   "source": [
    "c"
   ]
  },
  {
   "cell_type": "markdown",
   "metadata": {},
   "source": [
    "4. 还记得之前我们定义了一个`name`变量吗？用Fancy printing和自己打个招呼吧"
   ]
  },
  {
   "cell_type": "code",
   "execution_count": null,
   "metadata": {},
   "outputs": [],
   "source": [
    "f'Hi, {name}. How are you?'"
   ]
  },
  {
   "cell_type": "markdown",
   "metadata": {},
   "source": [
    "5. 可以import各种库，比如之前我们用过的turtle\n",
    "\n",
    "整个notebook里面每个库只要import一次就可以了，不要重复import"
   ]
  },
  {
   "cell_type": "code",
   "execution_count": null,
   "metadata": {},
   "outputs": [],
   "source": [
    "import turtle\n",
    "\n",
    "# 用turtle画点什么吧，如果你不太记得turtle的具体代码，可以看一下以前的文件"
   ]
  },
  {
   "cell_type": "code",
   "execution_count": null,
   "metadata": {},
   "outputs": [],
   "source": []
  }
 ],
 "metadata": {
  "interpreter": {
   "hash": "4f6851118a3c52dd3037093290be12f4d34359eb79d9fe3083aeb6576a03f57a"
  },
  "kernelspec": {
   "display_name": "Python 3.10.0 64-bit ('PY310': conda)",
   "language": "python",
   "name": "python3"
  },
  "language_info": {
   "codemirror_mode": {
    "name": "ipython",
    "version": 3
   },
   "file_extension": ".py",
   "mimetype": "text/x-python",
   "name": "python",
   "nbconvert_exporter": "python",
   "pygments_lexer": "ipython3",
   "version": "3.10.0"
  },
  "orig_nbformat": 4
 },
 "nbformat": 4,
 "nbformat_minor": 2
}
